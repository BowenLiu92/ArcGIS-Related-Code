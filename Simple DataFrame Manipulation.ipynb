{
 "cells": [
  {
   "cell_type": "code",
   "execution_count": 13,
   "metadata": {
    "collapsed": true
   },
   "outputs": [],
   "source": [
    "import pandas as pd\n",
    "import numpy as np"
   ]
  },
  {
   "cell_type": "code",
   "execution_count": 2,
   "metadata": {
    "collapsed": false
   },
   "outputs": [
    {
     "ename": "NameError",
     "evalue": "name 'arcpy' is not defined",
     "output_type": "error",
     "traceback": [
      "\u001b[0;31m---------------------------------------------------------------------------\u001b[0m",
      "\u001b[0;31mNameError\u001b[0m                                 Traceback (most recent call last)",
      "\u001b[0;32m<ipython-input-2-a820f5ca21e6>\u001b[0m in \u001b[0;36m<module>\u001b[0;34m()\u001b[0m\n\u001b[1;32m      4\u001b[0m \u001b[0mfc\u001b[0m \u001b[1;33m=\u001b[0m \u001b[1;34mr'H:\\lvpcprojects\\FutureLV\\ScenarioPlanning\\LV_LivingWorkingFlow\\Commuter X bliu\\map.gdb\\TrafficCountSites'\u001b[0m\u001b[1;33m\u001b[0m\u001b[0m\n\u001b[1;32m      5\u001b[0m \u001b[0mfield\u001b[0m \u001b[1;33m=\u001b[0m \u001b[1;33m[\u001b[0m\u001b[1;34m'RouteName'\u001b[0m\u001b[1;33m]\u001b[0m\u001b[1;33m\u001b[0m\u001b[0m\n\u001b[0;32m----> 6\u001b[0;31m \u001b[0mdf1\u001b[0m \u001b[1;33m=\u001b[0m \u001b[0mpd\u001b[0m\u001b[1;33m.\u001b[0m\u001b[0mDataFrame\u001b[0m\u001b[1;33m.\u001b[0m\u001b[0mfrom_records\u001b[0m\u001b[1;33m(\u001b[0m\u001b[0mdata\u001b[0m \u001b[1;33m=\u001b[0m \u001b[0marcpy\u001b[0m\u001b[1;33m.\u001b[0m\u001b[0mda\u001b[0m\u001b[1;33m.\u001b[0m\u001b[0mSearchCursor\u001b[0m\u001b[1;33m(\u001b[0m\u001b[0mfc\u001b[0m\u001b[1;33m,\u001b[0m \u001b[0mfield\u001b[0m\u001b[1;33m)\u001b[0m\u001b[1;33m,\u001b[0m \u001b[0mcolumns\u001b[0m \u001b[1;33m=\u001b[0m \u001b[0mfield\u001b[0m\u001b[1;33m)\u001b[0m\u001b[1;33m\u001b[0m\u001b[0m\n\u001b[0m",
      "\u001b[0;31mNameError\u001b[0m: name 'arcpy' is not defined"
     ]
    }
   ],
   "source": [
    "#The most important thing of this task is to learn to\n",
    "#extract data frame and then manipulate with Pandas for this part\n",
    "\n",
    "fc = r'H:\\lvpcprojects\\FutureLV\\ScenarioPlanning\\LV_LivingWorkingFlow\\Commuter X bliu\\map.gdb\\TrafficCountSites'\n",
    "field = ['RouteName']\n",
    "df1 = pd.DataFrame.from_records(data = arcpy.da.SearchCursor(fc, field), columns = field)"
   ]
  },
  {
   "cell_type": "code",
   "execution_count": 3,
   "metadata": {
    "collapsed": false
   },
   "outputs": [
    {
     "data": {
      "text/html": [
       "<div>\n",
       "<style scoped>\n",
       "    .dataframe tbody tr th:only-of-type {\n",
       "        vertical-align: middle;\n",
       "    }\n",
       "\n",
       "    .dataframe tbody tr th {\n",
       "        vertical-align: top;\n",
       "    }\n",
       "\n",
       "    .dataframe thead th {\n",
       "        text-align: right;\n",
       "    }\n",
       "</style>\n",
       "<table border=\"1\" class=\"dataframe\">\n",
       "  <thead>\n",
       "    <tr style=\"text-align: right;\">\n",
       "      <th></th>\n",
       "      <th>OBJECTID</th>\n",
       "      <th>LENGTH</th>\n",
       "      <th>ID</th>\n",
       "      <th>STREET</th>\n",
       "      <th>PREFIX</th>\n",
       "      <th>NAME</th>\n",
       "      <th>TYPE</th>\n",
       "      <th>SUFFIX</th>\n",
       "      <th>ODD</th>\n",
       "      <th>L_F_ADD</th>\n",
       "      <th>...</th>\n",
       "      <th>R_T_ADD</th>\n",
       "      <th>ZIP_L</th>\n",
       "      <th>ZIP_R</th>\n",
       "      <th>ALLEY</th>\n",
       "      <th>ROUTE_NAME</th>\n",
       "      <th>STREETNAME</th>\n",
       "      <th>LVPCTYPE</th>\n",
       "      <th>COUNTY</th>\n",
       "      <th>RDCLASS</th>\n",
       "      <th>Shape_Length</th>\n",
       "    </tr>\n",
       "  </thead>\n",
       "  <tbody>\n",
       "    <tr>\n",
       "      <th>0</th>\n",
       "      <td>1</td>\n",
       "      <td>465.300</td>\n",
       "      <td>4481</td>\n",
       "      <td>RT33 S</td>\n",
       "      <td></td>\n",
       "      <td>RT33</td>\n",
       "      <td></td>\n",
       "      <td>S</td>\n",
       "      <td></td>\n",
       "      <td>0</td>\n",
       "      <td>...</td>\n",
       "      <td>0</td>\n",
       "      <td>18091</td>\n",
       "      <td>18091</td>\n",
       "      <td>N</td>\n",
       "      <td>STATE HWY 33</td>\n",
       "      <td>STATE HWY 33</td>\n",
       "      <td>1</td>\n",
       "      <td>95</td>\n",
       "      <td>33.0</td>\n",
       "      <td>465.300164</td>\n",
       "    </tr>\n",
       "    <tr>\n",
       "      <th>1</th>\n",
       "      <td>2</td>\n",
       "      <td>2615.804</td>\n",
       "      <td>4482</td>\n",
       "      <td>RT33 S</td>\n",
       "      <td></td>\n",
       "      <td>RT33</td>\n",
       "      <td></td>\n",
       "      <td>S</td>\n",
       "      <td></td>\n",
       "      <td>0</td>\n",
       "      <td>...</td>\n",
       "      <td>0</td>\n",
       "      <td>18091</td>\n",
       "      <td>18091</td>\n",
       "      <td>N</td>\n",
       "      <td>STATE HWY 33</td>\n",
       "      <td>STATE HWY 33</td>\n",
       "      <td>1</td>\n",
       "      <td>95</td>\n",
       "      <td>33.0</td>\n",
       "      <td>2615.803806</td>\n",
       "    </tr>\n",
       "    <tr>\n",
       "      <th>2</th>\n",
       "      <td>3</td>\n",
       "      <td>1911.359</td>\n",
       "      <td>4483</td>\n",
       "      <td>RT33 S</td>\n",
       "      <td></td>\n",
       "      <td>RT33</td>\n",
       "      <td></td>\n",
       "      <td>S</td>\n",
       "      <td></td>\n",
       "      <td>0</td>\n",
       "      <td>...</td>\n",
       "      <td>0</td>\n",
       "      <td>18091</td>\n",
       "      <td>18091</td>\n",
       "      <td>N</td>\n",
       "      <td>STATE HWY 33</td>\n",
       "      <td>STATE HWY 33</td>\n",
       "      <td>1</td>\n",
       "      <td>95</td>\n",
       "      <td>33.0</td>\n",
       "      <td>1911.358654</td>\n",
       "    </tr>\n",
       "    <tr>\n",
       "      <th>3</th>\n",
       "      <td>4</td>\n",
       "      <td>2039.440</td>\n",
       "      <td>4484</td>\n",
       "      <td>RT33 S</td>\n",
       "      <td></td>\n",
       "      <td>RT33</td>\n",
       "      <td></td>\n",
       "      <td>S</td>\n",
       "      <td></td>\n",
       "      <td>0</td>\n",
       "      <td>...</td>\n",
       "      <td>0</td>\n",
       "      <td>18091</td>\n",
       "      <td>18091</td>\n",
       "      <td>N</td>\n",
       "      <td>STATE HWY 33</td>\n",
       "      <td>STATE HWY 33</td>\n",
       "      <td>1</td>\n",
       "      <td>95</td>\n",
       "      <td>33.0</td>\n",
       "      <td>2039.439950</td>\n",
       "    </tr>\n",
       "    <tr>\n",
       "      <th>4</th>\n",
       "      <td>5</td>\n",
       "      <td>1733.914</td>\n",
       "      <td>4485</td>\n",
       "      <td>RT33 S</td>\n",
       "      <td></td>\n",
       "      <td>RT33</td>\n",
       "      <td></td>\n",
       "      <td>S</td>\n",
       "      <td></td>\n",
       "      <td>0</td>\n",
       "      <td>...</td>\n",
       "      <td>0</td>\n",
       "      <td>18091</td>\n",
       "      <td>18091</td>\n",
       "      <td>N</td>\n",
       "      <td>STATE HWY 33</td>\n",
       "      <td>STATE HWY 33</td>\n",
       "      <td>1</td>\n",
       "      <td>95</td>\n",
       "      <td>33.0</td>\n",
       "      <td>1733.913946</td>\n",
       "    </tr>\n",
       "  </tbody>\n",
       "</table>\n",
       "<p>5 rows × 22 columns</p>\n",
       "</div>"
      ],
      "text/plain": [
       "   OBJECTID    LENGTH    ID  STREET PREFIX  NAME TYPE SUFFIX ODD  L_F_ADD  \\\n",
       "0         1   465.300  4481  RT33 S         RT33           S            0   \n",
       "1         2  2615.804  4482  RT33 S         RT33           S            0   \n",
       "2         3  1911.359  4483  RT33 S         RT33           S            0   \n",
       "3         4  2039.440  4484  RT33 S         RT33           S            0   \n",
       "4         5  1733.914  4485  RT33 S         RT33           S            0   \n",
       "\n",
       "       ...       R_T_ADD  ZIP_L  ZIP_R  ALLEY    ROUTE_NAME    STREETNAME  \\\n",
       "0      ...             0  18091  18091      N  STATE HWY 33  STATE HWY 33   \n",
       "1      ...             0  18091  18091      N  STATE HWY 33  STATE HWY 33   \n",
       "2      ...             0  18091  18091      N  STATE HWY 33  STATE HWY 33   \n",
       "3      ...             0  18091  18091      N  STATE HWY 33  STATE HWY 33   \n",
       "4      ...             0  18091  18091      N  STATE HWY 33  STATE HWY 33   \n",
       "\n",
       "  LVPCTYPE COUNTY  RDCLASS  Shape_Length  \n",
       "0        1     95     33.0    465.300164  \n",
       "1        1     95     33.0   2615.803806  \n",
       "2        1     95     33.0   1911.358654  \n",
       "3        1     95     33.0   2039.439950  \n",
       "4        1     95     33.0   1733.913946  \n",
       "\n",
       "[5 rows x 22 columns]"
      ]
     },
     "execution_count": 3,
     "metadata": {},
     "output_type": "execute_result"
    }
   ],
   "source": [
    "#Get the unique values and then sort them, especially checking the data type\n",
    "df = pd.read_excel('file:///L:\\lvpcgis\\BowenLiuTemporary\\BowenCodingRelated\\PandasUniqueData\\Play.xlsx')\n",
    "df.head()"
   ]
  },
  {
   "cell_type": "code",
   "execution_count": 20,
   "metadata": {
    "collapsed": false,
    "scrolled": true
   },
   "outputs": [
    {
     "data": {
      "text/plain": [
       "0            STATE HWY 33\n",
       "1                 SR 0987\n",
       "2               PA RT 987\n",
       "3           PA RT 329/987\n",
       "4               PA RT 611\n",
       "5               PA RT 512\n",
       "6               PA RT 412\n",
       "7                 SR 0378\n",
       "8               PA RT 378\n",
       "9                 SR 0329\n",
       "10              PA RT 329\n",
       "11                SR 0309\n",
       "12     SR 0078    SR 0309\n",
       "13              PA RT 248\n",
       "14                SR 0222\n",
       "15              PA RT 191\n",
       "16                SR 0145\n",
       "17              PA RT 145\n",
       "18                SR 0100\n",
       "19       SR 0222  SR 0100\n",
       "20    SR 0029     SR 0100\n",
       "21                SR 0029\n",
       "22                SR 0022\n",
       "23           STATE HWY 22\n",
       "24    SR 0022     SR 0078\n",
       "25                SR 0078\n",
       "26    SR 0309     SR 0078\n",
       "27                       \n",
       "28                   I-78\n",
       "29                  I-476\n",
       "30                SR 1002\n",
       "31                   T413\n",
       "32                SR 1003\n",
       "dtype: object"
      ]
     },
     "execution_count": 20,
     "metadata": {},
     "output_type": "execute_result"
    }
   ],
   "source": [
    "s = df['ROUTE_NAME'].unique()\n",
    "pd.Series(s)"
   ]
  },
  {
   "cell_type": "code",
   "execution_count": 40,
   "metadata": {
    "collapsed": false
   },
   "outputs": [
    {
     "data": {
      "text/plain": [
       "pandas.core.frame.DataFrame"
      ]
     },
     "execution_count": 40,
     "metadata": {},
     "output_type": "execute_result"
    }
   ],
   "source": [
    "#I want to see what datatype s has\n",
    "type(df)"
   ]
  },
  {
   "cell_type": "code",
   "execution_count": 34,
   "metadata": {
    "collapsed": false
   },
   "outputs": [
    {
     "data": {
      "text/plain": [
       "27                       \n",
       "29                  I-476\n",
       "28                   I-78\n",
       "17              PA RT 145\n",
       "15              PA RT 191\n",
       "13              PA RT 248\n",
       "10              PA RT 329\n",
       "3           PA RT 329/987\n",
       "8               PA RT 378\n",
       "6               PA RT 412\n",
       "5               PA RT 512\n",
       "4               PA RT 611\n",
       "2               PA RT 987\n",
       "22                SR 0022\n",
       "24    SR 0022     SR 0078\n",
       "21                SR 0029\n",
       "20    SR 0029     SR 0100\n",
       "25                SR 0078\n",
       "12     SR 0078    SR 0309\n",
       "18                SR 0100\n",
       "16                SR 0145\n",
       "14                SR 0222\n",
       "19       SR 0222  SR 0100\n",
       "11                SR 0309\n",
       "26    SR 0309     SR 0078\n",
       "9                 SR 0329\n",
       "7                 SR 0378\n",
       "1                 SR 0987\n",
       "30                SR 1002\n",
       "32                SR 1003\n",
       "23           STATE HWY 22\n",
       "0            STATE HWY 33\n",
       "31                   T413\n",
       "dtype: object"
      ]
     },
     "execution_count": 34,
     "metadata": {},
     "output_type": "execute_result"
    }
   ],
   "source": [
    "s1 = pd.Series(df['ROUTE_NAME'].unique()).sort_values()\n",
    "s1"
   ]
  },
  {
   "cell_type": "code",
   "execution_count": 37,
   "metadata": {
    "collapsed": false
   },
   "outputs": [
    {
     "data": {
      "text/plain": [
       "a    (1.992, 3.333]\n",
       "b    (3.333, 4.667]\n",
       "c      (4.667, 6.0]\n",
       "d    (7.333, 8.667]\n",
       "e     (8.667, 10.0]\n",
       "dtype: category\n",
       "Categories (6, interval[float64]): [(1.992, 3.333] < (3.333, 4.667] < (4.667, 6.0] < (6.0, 7.333] < (7.333, 8.667] < (8.667, 10.0]]"
      ]
     },
     "execution_count": 37,
     "metadata": {},
     "output_type": "execute_result"
    }
   ],
   "source": [
    "s2 = pd.Series(np.array([2, 4, 6, 8, 10]), index=['a', 'b', 'c', 'd', 'e'])\n",
    "pd.cut(s2, 6)"
   ]
  },
  {
   "cell_type": "code",
   "execution_count": 21,
   "metadata": {
    "collapsed": false
   },
   "outputs": [
    {
     "name": "stdout",
     "output_type": "stream",
     "text": [
      "[' ' 'I-476' 'I-78' 'PA RT 145' 'PA RT 191' 'PA RT 248' 'PA RT 329'\n",
      " 'PA RT 329/987' 'PA RT 378' 'PA RT 412' 'PA RT 512' 'PA RT 611'\n",
      " 'PA RT 987' 'SR 0022' 'SR 0022     SR 0078' 'SR 0029'\n",
      " 'SR 0029     SR 0100' 'SR 0078' 'SR 0078    SR 0309' 'SR 0100' 'SR 0145'\n",
      " 'SR 0222' 'SR 0222  SR 0100' 'SR 0309' 'SR 0309     SR 0078' 'SR 0329'\n",
      " 'SR 0378' 'SR 0987' 'SR 1002' 'SR 1003' 'STATE HWY 22' 'STATE HWY 33'\n",
      " 'T413']\n"
     ]
    }
   ],
   "source": [
    "s.sort()\n",
    "print(s)"
   ]
  },
  {
   "cell_type": "code",
   "execution_count": 17,
   "metadata": {
    "collapsed": false
   },
   "outputs": [
    {
     "data": {
      "text/plain": [
       "0    [0.00909254]\n",
       "1    [0.02390291]\n",
       "2    [0.02998752]\n",
       "dtype: object"
      ]
     },
     "execution_count": 17,
     "metadata": {},
     "output_type": "execute_result"
    }
   ],
   "source": [
    "sb = np.array([[ 0.00909254],\n",
    "       [ 0.02390291],\n",
    "       [ 0.02998752]])\n",
    "pd.Series(sb.tolist())"
   ]
  }
 ],
 "metadata": {
  "kernelspec": {
   "display_name": "Python 3",
   "language": "python",
   "name": "python3"
  },
  "language_info": {
   "codemirror_mode": {
    "name": "ipython",
    "version": 3
   },
   "file_extension": ".py",
   "mimetype": "text/x-python",
   "name": "python",
   "nbconvert_exporter": "python",
   "pygments_lexer": "ipython3",
   "version": "3.6.0"
  }
 },
 "nbformat": 4,
 "nbformat_minor": 2
}

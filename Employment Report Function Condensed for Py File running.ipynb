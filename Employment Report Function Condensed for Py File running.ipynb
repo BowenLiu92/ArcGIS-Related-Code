{
 "cells": [
  {
   "cell_type": "code",
   "execution_count": 1,
   "metadata": {},
   "outputs": [],
   "source": [
    "from IPython.core.interactiveshell import InteractiveShell\n",
    "InteractiveShell.ast_node_interactivity = \"all\"\n",
    "\n",
    "import numpy as np\n",
    "import pandas as pd\n",
    "\n",
    "def reportPE(filename, sheetname):\n",
    "    df = pd.read_excel(filename, sheet_name = sheetname, header = 2)\n",
    "    df = df.iloc[:, np.r_[1:5, 5:len(df.columns):2]]\n",
    "    df = df.groupby(['NAME', 'COUNTY'])['New 2010 EMP', 'New 2015 EMP',\n",
    "       'New 2020 EMP', 'New 2025 EMP', 'New 2030 EMP', 'New 2035 EMP',\n",
    "       'New 2040 EMP', 'New 2045 EMP'].sum().reset_index()\n",
    "    df = df.append(df.sum(numeric_only=True), ignore_index=True)\n",
    "    return df\n",
    "\n",
    "LC_filename = 'file:///\\\\Fileserver01\\d_drive\\lvpcprojects\\Pop%20+%20Emp%20Projections%202018\\\n",
    "/Feb%202019%20Update\\Employment%20Growth%20Rate%20and%20Update.xlsx'\n",
    "LC_sheetname = 'LC EMP Update'\n",
    "\n",
    "NC_filename = 'file:///\\\\Fileserver01\\d_drive\\lvpcprojects\\Pop%20+%20Emp%20Projections%202018\\\n",
    "/Feb%202019%20Update\\Employment%20Growth%20Rate%20and%20Update.xlsx'\n",
    "NC_sheetname = 'NC EMP Update'\n",
    "\n",
    "LC_EMP = reportPE(LC_filename, LC_sheetname)\n",
    "NC_EMP = reportPE(NC_filename, NC_sheetname)\n",
    "writer = pd.ExcelWriter('H:\\lvpcprojects\\Pop + Emp Projections 2018\\Feb 2019 Update\\Results\\EMP_output.xlsx')\n",
    "LC_EMP.to_excel(writer,'LC EMP')\n",
    "NC_EMP.to_excel(writer,'NC EMP')\n",
    "\n",
    "writer.save()"
   ]
  }
 ],
 "metadata": {
  "kernelspec": {
   "display_name": "Python 3",
   "language": "python",
   "name": "python3"
  },
  "language_info": {
   "codemirror_mode": {
    "name": "ipython",
    "version": 3
   },
   "file_extension": ".py",
   "mimetype": "text/x-python",
   "name": "python",
   "nbconvert_exporter": "python",
   "pygments_lexer": "ipython3",
   "version": "3.6.8"
  }
 },
 "nbformat": 4,
 "nbformat_minor": 2
}

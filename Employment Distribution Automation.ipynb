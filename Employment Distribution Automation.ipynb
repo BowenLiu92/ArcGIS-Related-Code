{
 "cells": [
  {
   "cell_type": "code",
   "execution_count": null,
   "metadata": {},
   "outputs": [],
   "source": [
    "#This .py file is created to automate the yearly project of distributing employment across the\n",
    "# 4 categories: Office, Industry, Retail, Other\n",
    "\n",
    "import pandas as pd\n",
    "import numpy as np\n",
    "\n",
    "colist = ['TAZ', 'MUNICODE', 'NAME', 'COUNTY', 'New2015', 'New2020', 'New2025',\n",
    "       'New2030', 'New2035', 'New2040', 'New2045']\n",
    "df = pd.read_excel('file:///H:\\lvpcprojects\\Pop%20+%20Emp%20Projections%202018\\Feb%202019%20Update\\TAZ%20based%20results\\EMP%20result.xlsx',\n",
    "                    sheet_name = 'LV')[colist]\n",
    "distri_file = r'file:///L:\\lvpcgis\\BowenLiuTemporary\\I-78%20Adams%20Rd%20Point%20of%20Access%20Study\\\n",
    "/ExcelFiles\\Aug%20Updated%20Results\\New%20Results.xlsx'\n",
    "def distribute_emp(sheet, year):\n",
    "    df1 = pd.read_excel(distri_file, sheet_name = sheet) \n",
    "    df1['Retail Ratio ' + year] = df1['Retail']/df1['Bowen ' + year + ' Total']\n",
    "    df1['Office Ratio ' + year] = df1['Office']/df1['Bowen ' + year + ' Total']\n",
    "    df1['INDUST Ratio ' + year] = df1['INDUST ']/df1['Bowen ' + year + ' Total']\n",
    "    df1['OTHER Ratio ' + year] = 1 - df1[['Retail Ratio ' + year, 'Office Ratio ' + year, 'INDUST Ratio ' + year]].sum(axis = 1)\n",
    "    \n",
    "    #Finish the ratio, now I need to calculate the new distribution number based on the ratio.\n",
    "    df1['New Retail '+ year] = df['New'+year] * df1['Retail Ratio ' + year]\n",
    "    df1['New Office '+ year] = df['New'+year] * df1['Office Ratio ' + year]\n",
    "    df1['New INDUST '+ year] = df['New'+year] * df1['INDUST Ratio ' + year]\n",
    "    df1['New OTHER '+ year] = df['New'+year] * df1['OTHER Ratio ' + year]\n",
    "    dfm = pd.merge(df, df1.set_index('CODE'), left_on= 'TAZ', right_index= True)\n",
    "    \n",
    "    #Filter the columns. After all I only need to see the columns showing the results.\n",
    "    all_columns = list(dfm.columns)\n",
    "    clist = [e for e in all_columns if e in ['TAZ', 'MUNICODE', 'NAME', 'New Retail '+year, 'New Office '+year,\n",
    "       'New INDUST '+year, 'New OTHER '+year]]\n",
    "    dfm.fillna(0, inplace = True)\n",
    "    dfm = dfm[clist]\n",
    "    \n",
    "    return dfm\n",
    "\n",
    "d = {}\n",
    "for i in range(2020, 2050, 5):\n",
    "    d[i] = distribute_emp(sheet = str(i) + ' Distri', year = str(i))\n",
    "    \n",
    "writer = pd.ExcelWriter(input('File location and file name: '))\n",
    "for e in d.keys():\n",
    "    d[e].to_excel(writer, sheet_name = 'Distribution '+ str(e))\n",
    "writer.save()"
   ]
  }
 ],
 "metadata": {
  "kernelspec": {
   "display_name": "Python 3",
   "language": "python",
   "name": "python3"
  },
  "language_info": {
   "codemirror_mode": {
    "name": "ipython",
    "version": 3
   },
   "file_extension": ".py",
   "mimetype": "text/x-python",
   "name": "python",
   "nbconvert_exporter": "python",
   "pygments_lexer": "ipython3",
   "version": "3.6.8"
  }
 },
 "nbformat": 4,
 "nbformat_minor": 2
}

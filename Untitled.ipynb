{
 "cells": [
  {
   "cell_type": "code",
   "execution_count": 2,
   "metadata": {},
   "outputs": [],
   "source": [
    "# Lehigh County unemployment rate series ID: LAUCN420770000000003\n",
    "# Lehigh County unemployment series ID: LAUCN420770000000004\n",
    "# Lehigh County employment series ID: LAUCN420770000000005\n",
    "# Lehigh County labor force series ID: LAUCN420770000000006\n",
    "# Northampton County unemployment rate series ID: LAUCN420950000000003\n",
    "# Northampton County unemployment series ID: LAUCN420950000000004\n",
    "# Northampton County employment series ID: LAUCN420950000000005\n",
    "# Northampton County labor force series ID: LAUCN420950000000006\n",
    "# Pennsylvania unemployment rate series ID: LASST420000000000003\n",
    "# Pennsylvania unemployment series ID: LASST420000000000004\n",
    "# Pennsylvania employment series ID: LASST420000000000005\n",
    "# Pennsylvania labor force series ID: LASST420000000000006\n",
    "\n",
    "\n",
    "# The code below is to extract population and employment datasets from the new bls data site\n",
    "import pandas as pd\n",
    "import json\n",
    "import requests\n",
    "\n",
    "headers = {'Content-type': 'application/json'}\n",
    "extract_list = []\n",
    "Total_List = ['LAUCN420770000000003', 'LAUCN420770000000004', 'LAUCN420770000000005', 'LAUCN420770000000006',\n",
    "             'LAUCN420950000000003', 'LAUCN420950000000004', 'LAUCN420950000000005', 'LAUCN420950000000006',\n",
    "             'LASST420000000000003', 'LASST420000000000004', 'LASST420000000000005', 'LASST420000000000006']\n",
    "data = json.dumps({\"seriesid\": Total_List,\"startyear\":\"2016\", \"endyear\":\"2017\", \"annualaverage\":True, \n",
    "                   \"registrationkey\":\"ffb1aa39d0e04099865528d0ca8e3b20\"})\n",
    "p = requests.post('https://api.bls.gov/publicAPI/v1/timeseries/data/', data=data, headers=headers)\n",
    "json_data = json.loads(p.text)\n",
    "try:\n",
    "    df = pd.DataFrame()\n",
    "    for series in json_data['Results']['series']:\n",
    "        df_initial = pd.DataFrame(series)\n",
    "        series_col = df_initial['seriesID'][0]\n",
    "        for i in range(0, len(df_initial)):\n",
    "            df_row = pd.DataFrame(df_initial['data'][i])\n",
    "            df_row['seriesID'] = series_col\n",
    "            if 'code' not in str(df_row['footnotes']): \n",
    "                df_row['footnotes'] = ''\n",
    "            else:\n",
    "                df_row['footnotes'] = str(df_row['footnotes']).split(\"'code': '\",1)[1][:1]\n",
    "            df = df.append(df_row, ignore_index=True)\n",
    "    df.to_csv('Penn LC NC Employment.csv', index=False)\n",
    "except:\n",
    "    json_data['status'] == 'REQUEST_NOT_PROCESSED'\n",
    "    print('BLS API has given the following Response:', json_data['status'])\n",
    "    print('Reason:', json_data['message'])"
   ]
  }
 ],
 "metadata": {
  "kernelspec": {
   "display_name": "Python 3",
   "language": "python",
   "name": "python3"
  },
  "language_info": {
   "codemirror_mode": {
    "name": "ipython",
    "version": 3
   },
   "file_extension": ".py",
   "mimetype": "text/x-python",
   "name": "python",
   "nbconvert_exporter": "python",
   "pygments_lexer": "ipython3",
   "version": "3.6.8"
  }
 },
 "nbformat": 4,
 "nbformat_minor": 2
}

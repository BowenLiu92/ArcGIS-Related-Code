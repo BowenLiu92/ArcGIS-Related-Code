{
 "cells": [
  {
   "cell_type": "code",
   "execution_count": null,
   "metadata": {
    "collapsed": true
   },
   "outputs": [],
   "source": [
    "import arcpy\n",
    "import pandas as pd\n",
    "\n",
    "fc = r'H:\\lvpcprojects\\FutureLV\\ScenarioPlanning\\GIS\\BaselineData\\Baseline Data Calculation\\Baseline Data Calculation.gdb\\ParcelDevelopableDevelopedNaturalFeatures' #Change to match your input\n",
    "fields = ['DevelopableRatio','GISACRES'] #The fields I'm going to use\n",
    "\n",
    "df = pd.DataFrame.from_records(data=arcpy.da.SearchCursor(fc,fields),columns=fields)\n",
    "\n",
    "devbins = [0, 0.01, 0.02, 0.03, 0.04, 0.05, 0.06, 0.07, 0.08, 0.09, 0.1, 0.15, 0.2, 0.25, 0.5, 0.75, 1] #Bins for developable ratio\n",
    "\n",
    "df['Dev_class'] = pd.cut(df[fields[0]], devbins)\n",
    "\n",
    "acrebins = [0,1,2,5,10,20,50,100,9999] #Bins for total acres of the parcel\n",
    "df['Acre_class'] = pd.cut(df[fields[1]], acrebins)\n",
    "\n",
    "df2 = pd.pivot_table(data=df, values=fields[0], index='Dev_class', columns='Acre_class', \n",
    "                    aggfunc=len)\n",
    "\n",
    "df2.to_clipboard() #I want to paste the data to excel"
   ]
  }
 ],
 "metadata": {
  "kernelspec": {
   "display_name": "Python 3",
   "language": "python",
   "name": "python3"
  },
  "language_info": {
   "codemirror_mode": {
    "name": "ipython",
    "version": 3
   },
   "file_extension": ".py",
   "mimetype": "text/x-python",
   "name": "python",
   "nbconvert_exporter": "python",
   "pygments_lexer": "ipython3",
   "version": "3.6.0"
  }
 },
 "nbformat": 4,
 "nbformat_minor": 2
}

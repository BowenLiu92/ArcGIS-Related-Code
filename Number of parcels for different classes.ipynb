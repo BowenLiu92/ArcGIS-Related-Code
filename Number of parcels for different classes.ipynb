{
 "cells": [
  {
   "cell_type": "code",
   "execution_count": null,
   "metadata": {
    "collapsed": true
   },
   "outputs": [],
   "source": [
    "#The script below is used to calculate the total number and acreage\n",
    "#of parcels based on different categories: developed raio and area.\n",
    "import arcpy\n",
    "import pandas as pd\n",
    "import numpy as np\n",
    "\n",
    "fc = r'H:\\lvpcprojects\\FutureLV\\ScenarioPlanning\\GIS\\BaselineData\\Baseline Data Calculation\\\n",
    "/Baseline Data Calculation.gdb\\ParcelDevelopableDevelopedNaturalFeatures' #Change to match your input\n",
    "fields = ['DevelopableRatio','GISACRES'] #The fields I'm going to use\n",
    "\n",
    "df = pd.DataFrame.from_records(data=arcpy.da.SearchCursor(fc,fields),columns=fields)\n",
    "\n",
    "devbins = [0, 0.01, 0.02, 0.03, 0.04, 0.05, 0.06, 0.07, 0.08, 0.09, 0.1, 0.15, 0.2, 0.25, 0.5, 0.75, 1] #Bins for developable ratio\n",
    "\n",
    "df['Dev_class'] = pd.cut(df[fields[0]], devbins)\n",
    "\n",
    "acrebins = [0,1,2,5,10,20,50,100,20000] #Bins for total acres of the parcel\n",
    "df['Acre_class'] = pd.cut(df[fields[1]], acrebins)\n",
    "\n",
    "df2 = pd.pivot_table(data=df, values=fields[1], index='Dev_class', columns='Acre_class', \n",
    "                    aggfunc=[len, np.sum], fill_value = 0)\n",
    "\n",
    "df2.to_clipboard() #I want to paste the data to excel"
   ]
  },
  {
   "cell_type": "code",
   "execution_count": 1,
   "metadata": {
    "collapsed": false
   },
   "outputs": [
    {
     "ename": "ModuleNotFoundError",
     "evalue": "No module named 'arcpy'",
     "output_type": "error",
     "traceback": [
      "\u001b[0;31m---------------------------------------------------------------------------\u001b[0m",
      "\u001b[0;31mModuleNotFoundError\u001b[0m                       Traceback (most recent call last)",
      "\u001b[0;32m<ipython-input-1-db0d6a7a3d92>\u001b[0m in \u001b[0;36m<module>\u001b[0;34m()\u001b[0m\n\u001b[0;32m----> 1\u001b[0;31m \u001b[1;32mimport\u001b[0m \u001b[0marcpy\u001b[0m\u001b[1;33m\u001b[0m\u001b[0m\n\u001b[0m\u001b[1;32m      2\u001b[0m \u001b[1;32mimport\u001b[0m \u001b[0mpandas\u001b[0m \u001b[1;32mas\u001b[0m \u001b[0mpd\u001b[0m\u001b[1;33m\u001b[0m\u001b[0m\n\u001b[1;32m      3\u001b[0m \u001b[1;33m\u001b[0m\u001b[0m\n\u001b[1;32m      4\u001b[0m \u001b[0mfc\u001b[0m \u001b[1;33m=\u001b[0m \u001b[1;34mr'H:\\lvpcprojects\\FutureLV\\ScenarioPlanning\\GIS\\BaselineData\\Baseline Data Calculation\\Baseline Data Calculation.gdb\\ParcelDevelopableDevelopedNaturalFeatures'\u001b[0m \u001b[1;31m#Change to match your input\u001b[0m\u001b[1;33m\u001b[0m\u001b[0m\n\u001b[1;32m      5\u001b[0m \u001b[0mfields\u001b[0m \u001b[1;33m=\u001b[0m \u001b[1;33m[\u001b[0m\u001b[1;34m'DevelopableRatio'\u001b[0m\u001b[1;33m,\u001b[0m\u001b[1;34m'GISACRES'\u001b[0m\u001b[1;33m]\u001b[0m \u001b[1;31m#The fields I'm going to use\u001b[0m\u001b[1;33m\u001b[0m\u001b[0m\n",
      "\u001b[0;31mModuleNotFoundError\u001b[0m: No module named 'arcpy'"
     ]
    }
   ],
   "source": [
    "import arcpy\n",
    "import pandas as pd\n",
    "\n",
    "fc = r'H:\\lvpcprojects\\FutureLV\\ScenarioPlanning\\GIS\\BaselineData\\Baseline Data Calculation\\Baseline Data Calculation.gdb\\ParcelDevelopableDevelopedNaturalFeatures' #Change to match your input\n",
    "fields = ['DevelopableRatio','GISACRES'] #The fields I'm going to use\n",
    "\n",
    "df = pd.DataFrame.from_records(data=arcpy.da.SearchCursor(fc,fields),columns=fields)\n",
    "\n",
    "devbins = [0, 0.01, 0.02, 0.03, 0.04, 0.05, 0.06, 0.07, 0.08, 0.09, 0.1, 0.15, 0.2, 0.25, 0.5, 0.75, 1] #Bins for developable ratio\n",
    "\n",
    "df['Dev_class'] = pd.cut(df[fields[0]], devbins)\n",
    "\n",
    "acrebins = [0,1,2,5,10,20,50,100,9999] #Bins for total acres of the parcel\n",
    "df['Acre_class'] = pd.cut(df[fields[1]], acrebins)\n",
    "\n",
    "df2 = pd.pivot_table(data=df, values=fields[0], index='Dev_class', columns='Acre_class', \n",
    "                    aggfunc=len)\n",
    "\n",
    "df2.to_clipboard() #I want to paste the data to excel"
   ]
  },
  {
   "cell_type": "code",
   "execution_count": null,
   "metadata": {
    "collapsed": true
   },
   "outputs": [],
   "source": [
    "import arcpy\n",
    "import pandas as pd\n",
    "\n",
    "fc = r'H:\\lvpcprojects\\FutureLV\\ScenarioPlanning\\GIS\\BaselineData\\Baseline Data Calculation\\Baseline Data Calculation.gdb\\ParcelDevelopableDevelopedNaturalFeatures' #Change to match your input\n",
    "fields = ['DevelopableRatio','GISACRES'] #The fields I'm going to use\n",
    "\n",
    "df = pd.DataFrame.from_records(data=arcpy.da.SearchCursor(fc,fields),columns=fields)\n",
    "\n",
    "devbins = [0, 0.01, 0.02, 0.03, 0.04, 0.05, 0.06, 0.07, 0.08, 0.09, 0.1, 0.15, 0.2, 0.25, 0.5, 0.75, 1] #Bins for developable ratio\n",
    "\n",
    "acrebins = [0,1,2,5,10,20,50,100,9999] #Bins for total acres of the parcel\n",
    "df['Acre_class'] = pd.cut(df[fields[1]], acrebins)\n",
    "\n",
    "df2 = pd.pivot_table(data=df, values=fields[0], index='Dev_class', columns='Acre_class', \n",
    "                    aggfunc=len)\n",
    "\n",
    "df2.to_clipboard() #Then paste to excel"
   ]
  },
  {
   "cell_type": "code",
   "execution_count": null,
   "metadata": {
    "collapsed": true
   },
   "outputs": [],
   "source": [
    "#Trying to include acres in the results\n",
    "\n",
    "import arcpy\n",
    "import pandas as pd\n",
    "import numpy as np\n",
    "\n",
    "fc = r'H:\\lvpcprojects\\FutureLV\\ScenarioPlanning\\GIS\\BaselineData\\Baseline Data Calculation\\Baseline Data Calculation.gdb\\ParcelDevelopableDevelopedNaturalFeatures' #Change to match your input\n",
    "fields = ['DevelopableRatio','GISACRES', 'DevelopableAcres'] #The fields I'm going to use\n",
    "\n",
    "df = pd.DataFrame.from_records(data=arcpy.da.SearchCursor(fc,fields),columns=fields)\n",
    "\n",
    "devbins = [0, 0.01, 0.02, 0.03, 0.04, 0.05, 0.06, 0.07, 0.08, 0.09, 0.1, 0.15, 0.2, 0.25, 0.5, 0.75, 1] #Bins for developable ratio\n",
    "df['Dev_class'] = pd.cut(df[fields[0]], devbins)\n",
    "\n",
    "acrebins = [0,1,2,5,10,20,50,100,9999] #Bins for total acres of the parcel\n",
    "df['Acre_class'] = pd.cut(df[fields[1]], acrebins)\n",
    "\n",
    "df['Area_sum'] = df[fields[2]]\n",
    "\n",
    "df2 = pd.pivot_table(data=df, values=[fields[0], fields[2]], index='Dev_class', columns=['Acre_class', 'Area_sum'],\n",
    "                    aggfunc={'Acre_class': len, 'Area_sum': sum})\n",
    "\n",
    "df2.to_clipboard()"
   ]
  },
  {
   "cell_type": "code",
   "execution_count": null,
   "metadata": {
    "collapsed": true
   },
   "outputs": [],
   "source": [
    "#Trying to include acres in the results\n",
    "\n",
    "import arcpy\n",
    "import pandas as pd\n",
    "import numpy as np\n",
    "\n",
    "fc = r'H:\\lvpcprojects\\FutureLV\\ScenarioPlanning\\GIS\\BaselineData\\Baseline Data Calculation\\Baseline Data Calculation.gdb\\ParcelDevelopableDevelopedNaturalFeatures' #Change to match your input\n",
    "fields = ['DevelopableRatio','GISACRES', 'DevelopableAcres'] #Change to match your input\n",
    "\n",
    "df = pd.DataFrame.from_records(data=arcpy.da.SearchCursor(fc,fields),columns=fields)\n",
    "\n",
    "devbins = [0, 0.01, 0.02, 0.03, 0.04, 0.05, 0.06, 0.07, 0.08, 0.09, 0.1, 0.15, 0.2, 0.25, 0.5, 0.75, 1] #Add/remove bins\n",
    "df['Dev_class'] = pd.cut(df[fields[0]], devbins)\n",
    "\n",
    "acrebins = [0,1,2,5,10,20,50,100,9999] #Add/remove bins\n",
    "df['Acre_class'] = pd.cut(df[fields[1]], acrebins)\n",
    "\n",
    "df['Area_sum'] = np.array(fields[2])\n",
    "\n",
    "df2 = pd.pivot_table(data=df, values=fields[0], index='Dev_class', columns=['Acre_class', 'Area_sum'],\n",
    "                    aggfunc={'Acre_class': len, 'Area_sum': np.mean})\n",
    "\n",
    "df2.to_clipboard()"
   ]
  },
  {
   "cell_type": "code",
   "execution_count": null,
   "metadata": {
    "collapsed": true
   },
   "outputs": [],
   "source": [
    "import pandas as pd\n",
    "xl_file = pd."
   ]
  },
  {
   "cell_type": "code",
   "execution_count": null,
   "metadata": {
    "collapsed": true
   },
   "outputs": [],
   "source": []
  },
  {
   "cell_type": "code",
   "execution_count": null,
   "metadata": {
    "collapsed": true
   },
   "outputs": [],
   "source": []
  },
  {
   "cell_type": "code",
   "execution_count": null,
   "metadata": {
    "collapsed": true
   },
   "outputs": [],
   "source": []
  }
 ],
 "metadata": {
  "kernelspec": {
   "display_name": "Python 3",
   "language": "python",
   "name": "python3"
  },
  "language_info": {
   "codemirror_mode": {
    "name": "ipython",
    "version": 3
   },
   "file_extension": ".py",
   "mimetype": "text/x-python",
   "name": "python",
   "nbconvert_exporter": "python",
   "pygments_lexer": "ipython3",
   "version": "3.6.0"
  }
 },
 "nbformat": 4,
 "nbformat_minor": 2
}

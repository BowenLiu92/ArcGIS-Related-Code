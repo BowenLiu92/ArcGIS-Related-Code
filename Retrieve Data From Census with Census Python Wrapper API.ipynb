{
 "cells": [
  {
   "cell_type": "code",
   "execution_count": 1,
   "metadata": {},
   "outputs": [
    {
     "data": {
      "text/html": [
       "<div>\n",
       "<style scoped>\n",
       "    .dataframe tbody tr th:only-of-type {\n",
       "        vertical-align: middle;\n",
       "    }\n",
       "\n",
       "    .dataframe tbody tr th {\n",
       "        vertical-align: top;\n",
       "    }\n",
       "\n",
       "    .dataframe thead th {\n",
       "        text-align: right;\n",
       "    }\n",
       "</style>\n",
       "<table border=\"1\" class=\"dataframe\">\n",
       "  <thead>\n",
       "    <tr style=\"text-align: right;\">\n",
       "      <th></th>\n",
       "      <th>B01001A_001E</th>\n",
       "      <th>B01001B_001E</th>\n",
       "      <th>B01001_001E</th>\n",
       "      <th>B01001_002E</th>\n",
       "      <th>B01001_003E</th>\n",
       "      <th>B01001_004E</th>\n",
       "      <th>B01001_005E</th>\n",
       "      <th>B01001_006E</th>\n",
       "      <th>B01001_026E</th>\n",
       "      <th>NAME</th>\n",
       "      <th>county</th>\n",
       "      <th>state</th>\n",
       "    </tr>\n",
       "  </thead>\n",
       "  <tbody>\n",
       "    <tr>\n",
       "      <th>0</th>\n",
       "      <td>259314.0</td>\n",
       "      <td>16204.0</td>\n",
       "      <td>300941</td>\n",
       "      <td>147829.0</td>\n",
       "      <td>7774.0</td>\n",
       "      <td>8860.0</td>\n",
       "      <td>9112.0</td>\n",
       "      <td>5898.0</td>\n",
       "      <td>153112.0</td>\n",
       "      <td>Northampton County, Pennsylvania</td>\n",
       "      <td>095</td>\n",
       "      <td>42</td>\n",
       "    </tr>\n",
       "  </tbody>\n",
       "</table>\n",
       "</div>"
      ],
      "text/plain": [
       "   B01001A_001E  B01001B_001E B01001_001E  B01001_002E  B01001_003E  \\\n",
       "0      259314.0       16204.0      300941     147829.0       7774.0   \n",
       "\n",
       "   B01001_004E  B01001_005E  B01001_006E  B01001_026E  \\\n",
       "0       8860.0       9112.0       5898.0     153112.0   \n",
       "\n",
       "                               NAME county state  \n",
       "0  Northampton County, Pennsylvania    095    42  "
      ]
     },
     "execution_count": 1,
     "metadata": {},
     "output_type": "execute_result"
    }
   ],
   "source": [
    "import numpy as np\n",
    "import pandas as pd\n",
    "\n",
    "from IPython.core.display import HTML\n",
    "css = open('style-table.css').read() + open('style-notebook.css').read()\n",
    "HTML('<style>{}</style>'.format(css))\n",
    "\n",
    "from census import Census\n",
    "from us import states\n",
    "\n",
    "#County code that we may need\n",
    "#PA,42,095,Northampton County,H1\n",
    "#PA,42,077,Lehigh County,H1\n",
    "#'B01001_001E' Total Population\n",
    "#'B01001_002E' Total Male Population\n",
    "# B01001_026E Total Female Population\n",
    "# B01001_003E Total!!Male!!Under 5 years\n",
    "# B01001_004E Estimate!!Total!!Male!! 5  to 9 years\n",
    "# B01001_005E Estimate!!Total!!Male!!10 to 14 years\n",
    "# B01001_006E Estimate!!Total!!Male!!15 to 17 years\n",
    "# B01001A_001E Total white population\n",
    "# B01001B_001E Total black population\n",
    "\n",
    "c = Census('f2952ec4c8b852a48fb61df698d4d43206ab3182')\n",
    "a = c.acs5.get(('NAME', 'B01001_001E', 'B01001_002E', 'B01001_003E', 'B01001_004E', 'B01001_005E', \n",
    "            'B01001_006E',   'B01001_026E', 'B01001A_001E', 'B01001B_001E'),\n",
    "          {'for': 'county: 095', 'in':'state: 42'}, year = 2017)\n",
    "pd.DataFrame(a)"
   ]
  }
 ],
 "metadata": {
  "kernelspec": {
   "display_name": "Python 3",
   "language": "python",
   "name": "python3"
  },
  "language_info": {
   "codemirror_mode": {
    "name": "ipython",
    "version": 3
   },
   "file_extension": ".py",
   "mimetype": "text/x-python",
   "name": "python",
   "nbconvert_exporter": "python",
   "pygments_lexer": "ipython3",
   "version": "3.6.8"
  }
 },
 "nbformat": 4,
 "nbformat_minor": 2
}
